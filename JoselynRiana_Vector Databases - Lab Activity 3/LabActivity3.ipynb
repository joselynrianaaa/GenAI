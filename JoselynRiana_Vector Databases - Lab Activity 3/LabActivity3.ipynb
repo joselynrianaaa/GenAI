{
 "cells": [
  {
   "cell_type": "code",
   "execution_count": 5,
   "metadata": {},
   "outputs": [],
   "source": [
    "from pymilvus import Collection, CollectionSchema, FieldSchema, DataType, utility , connections\n",
    "from transformers import BertTokenizer, BertModel\n",
    "import numpy as np\n",
    "import torch\n"
   ]
  },
  {
   "cell_type": "code",
   "execution_count": 6,
   "metadata": {},
   "outputs": [],
   "source": [
    "# Define Milvus collection schema\n",
    "def create_milvus_collection():\n",
    "    fields = [\n",
    "        FieldSchema(name=\"embedding\", dtype=DataType.FLOAT_VECTOR, dim=768),\n",
    "        FieldSchema(name=\"id\", dtype=DataType.INT64, is_primary=True)\n",
    "    ]\n",
    "    schema = CollectionSchema(fields, \"Multi-modal similarity search\")\n",
    "    collection = Collection(\"multi_modal_collection\", schema)\n",
    "    return collection"
   ]
  },
  {
   "cell_type": "code",
   "execution_count": 7,
   "metadata": {},
   "outputs": [],
   "source": [
    "# Define function to get BERT embeddings\n",
    "def get_bert_embeddings(texts):\n",
    "    tokenizer = BertTokenizer.from_pretrained('bert-base-uncased')\n",
    "    model = BertModel.from_pretrained('bert-base-uncased')\n",
    "    inputs = tokenizer(texts, return_tensors='pt', padding=True, truncation=True)\n",
    "    with torch.no_grad():\n",
    "        outputs = model(**inputs)\n",
    "    embeddings = outputs.last_hidden_state.mean(dim=1).numpy()\n",
    "    return embeddings"
   ]
  },
  {
   "cell_type": "code",
   "execution_count": 9,
   "metadata": {},
   "outputs": [],
   "source": [
    "connections.connect(alias=\"default\", host='localhost', port='19530')"
   ]
  },
  {
   "cell_type": "code",
   "execution_count": 10,
   "metadata": {},
   "outputs": [],
   "source": [
    "\n",
    "# Initialize Milvus collection\n",
    "collection = create_milvus_collection()"
   ]
  },
  {
   "cell_type": "code",
   "execution_count": 15,
   "metadata": {},
   "outputs": [],
   "source": [
    "# Sample text data\n",
    "texts = [\"Machine learning\", \"Natural language processing\", \"Programming\"]\n",
    "text_embeddings = get_bert_embeddings(texts)"
   ]
  },
  {
   "cell_type": "code",
   "execution_count": 12,
   "metadata": {},
   "outputs": [
    {
     "data": {
      "text/plain": [
       "(insert count: 3, delete count: 0, upsert count: 0, timestamp: 452593085762240515, success count: 3, err count: 0"
      ]
     },
     "execution_count": 12,
     "metadata": {},
     "output_type": "execute_result"
    }
   ],
   "source": [
    "# Insert embeddings into Milvus\n",
    "ids = [i for i in range(len(texts))]\n",
    "collection.insert([text_embeddings.tolist(), ids])\n"
   ]
  },
  {
   "cell_type": "code",
   "execution_count": 20,
   "metadata": {},
   "outputs": [],
   "source": [
    "# **Create an index on the 'embedding' field**\n",
    "index_param = {\n",
    "    \"index_type\": \"IVF_FLAT\",   # You can also try \"HNSW\", \"IVF_SQ8\", etc.\n",
    "    \"metric_type\": \"L2\",        # L2 distance (Euclidean) or \"IP\" for inner product\n",
    "    \"params\": {\"nlist\": 100}    # nlist is the number of clusters for IVF index\n",
    "}"
   ]
  },
  {
   "cell_type": "code",
   "execution_count": 21,
   "metadata": {},
   "outputs": [
    {
     "data": {
      "text/plain": [
       "Status(code=0, message=)"
      ]
     },
     "execution_count": 21,
     "metadata": {},
     "output_type": "execute_result"
    }
   ],
   "source": [
    "collection.create_index(\"embedding\", index_param)"
   ]
  },
  {
   "cell_type": "code",
   "execution_count": 22,
   "metadata": {},
   "outputs": [],
   "source": [
    "# Load the collection into memory\n",
    "collection.load()"
   ]
  },
  {
   "cell_type": "code",
   "execution_count": 23,
   "metadata": {},
   "outputs": [],
   "source": [
    "# Define search parameters\n",
    "search_param = {\"metric_type\": \"L2\", \"params\": {\"nprobe\": 10}}"
   ]
  },
  {
   "cell_type": "code",
   "execution_count": 24,
   "metadata": {},
   "outputs": [],
   "source": [
    "# Query for similar embeddings\n",
    "query_text = [\"AI and machine learning\"]\n",
    "query_embedding = get_bert_embeddings(query_text)"
   ]
  },
  {
   "cell_type": "code",
   "execution_count": 25,
   "metadata": {},
   "outputs": [],
   "source": [
    "# Perform the search\n",
    "results = collection.search(\n",
    "    query_embedding.tolist(),  # Query embeddings\n",
    "    anns_field=\"embedding\",    # Field name of the embedding in the collection\n",
    "    param=search_param,        # Search parameters (index and metric)\n",
    "    limit=2                    # Limit the number of results\n",
    ")\n"
   ]
  },
  {
   "cell_type": "code",
   "execution_count": 26,
   "metadata": {},
   "outputs": [
    {
     "name": "stdout",
     "output_type": "stream",
     "text": [
      "Search results: data: [\"['id: 0, distance: 26.06183433532715, entity: {}', 'id: 1, distance: 52.87938690185547, entity: {}']\"]\n"
     ]
    }
   ],
   "source": [
    "# Output search results\n",
    "print(\"Search results:\", results)"
   ]
  },
  {
   "cell_type": "code",
   "execution_count": null,
   "metadata": {},
   "outputs": [],
   "source": []
  }
 ],
 "metadata": {
  "kernelspec": {
   "display_name": "Python 3",
   "language": "python",
   "name": "python3"
  },
  "language_info": {
   "codemirror_mode": {
    "name": "ipython",
    "version": 3
   },
   "file_extension": ".py",
   "mimetype": "text/x-python",
   "name": "python",
   "nbconvert_exporter": "python",
   "pygments_lexer": "ipython3",
   "version": "3.11.1"
  }
 },
 "nbformat": 4,
 "nbformat_minor": 2
}
